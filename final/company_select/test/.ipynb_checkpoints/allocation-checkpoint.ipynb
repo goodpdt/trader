{
 "cells": [
  {
   "cell_type": "code",
   "execution_count": 39,
   "metadata": {},
   "outputs": [],
   "source": [
    "import xlrd\n",
    "\n",
    "def readExcel(filename):\n",
    "    data = xlrd.open_workbook(filename)\n",
    "    table = data.sheets()[0]            # 開啟第一張表\n",
    "    return table"
   ]
  },
  {
   "cell_type": "code",
   "execution_count": 40,
   "metadata": {},
   "outputs": [
    {
     "name": "stdout",
     "output_type": "stream",
     "text": [
      "['_3008.TW.xlsx', '_2474.TW.xlsx', '_2912.TW.xlsx', '_2330.TW.xlsx', '_2412.TW.xlsx']\n",
      "<xlrd.sheet.Sheet object at 0x000001F9BD331F60>\n"
     ]
    }
   ],
   "source": [
    "#datastream = readExcel('datastream_sample.xlsx')\n",
    "\n",
    "#company = []\n",
    "#for i in range(1,51):\n",
    "    #temp = [datastream.row_values(i)[2], int(datastream.row_values(i)[4])]\n",
    "    #company.append(temp)\n",
    "#print(company)\n",
    "\n",
    "target = [3008, 2474, 2912, 2330, 2412]\n",
    "file = []\n",
    "for i in range(5):\n",
    "    file.append('_' + str(target[i]) + '.TW.xlsx')\n",
    "print(file)\n",
    "\n",
    "data = []\n",
    "for i in range(5):\n",
    "    temp = readExcel(file[i])\n",
    "    data.append(temp)\n",
    "print(data[0])\n",
    "# print(data[1])\n",
    "# print(data.row_values(1)[0])\n",
    "# for i in range(data.nrows):\n",
    "    # print(time.localtime(data.row_values(i)[0]))\n",
    "    # for j in range(1, data.nrows + 1):"
   ]
  },
  {
   "cell_type": "code",
   "execution_count": 6,
   "metadata": {},
   "outputs": [
    {
     "data": {
      "text/plain": [
       "4020.0"
      ]
     },
     "execution_count": 6,
     "metadata": {},
     "output_type": "execute_result"
    }
   ],
   "source": [
    "data[0].row_values(1)[1]"
   ]
  },
  {
   "cell_type": "code",
   "execution_count": 7,
   "metadata": {},
   "outputs": [],
   "source": [
    "#print(date)"
   ]
  },
  {
   "cell_type": "code",
   "execution_count": 41,
   "metadata": {},
   "outputs": [
    {
     "name": "stdout",
     "output_type": "stream",
     "text": [
      "[108.0, 108.5, 113.0, 113.0, 109.0, 110.0, 106.0, 107.5, 110.0, 108.5, 106.5, 113.0]\n"
     ]
    }
   ],
   "source": [
    "# data[0].row_values(1)[0]\n",
    "# print(data[0].row_values(1)[1])\n",
    "# print(data[49].row_values(1)[1])\n",
    "\n",
    "indicators = []\n",
    "prices = []\n",
    "t = 0\n",
    "for i in range(5):\n",
    "    date = data[i].row_values(1)[0]\n",
    "    total = count = 0\n",
    "    indicator = []\n",
    "    price = []\n",
    "    for j in range(1, data[i].nrows):\n",
    "        t = t + 1\n",
    "        #print(t)\n",
    "        #print(data[i].row_values(j)[0])\n",
    "        if(data[i].row_values(j)[0] >= date + 30):\n",
    "            date = data[i].row_values(j)[0]\n",
    "            price.append(data[i].row_values(j - 1)[1])\n",
    "            if(count == 0):\n",
    "                indicator.append(-1)\n",
    "            else:\n",
    "                indicator.append(total / count)\n",
    "            total = count = 0\n",
    "        # print(\"i = \", i, \" j = \", j, \" data = \", data[i].row_values(j)[1])\n",
    "        \n",
    "        if(type(data[i].row_values(j)[1]) != type('0')):\n",
    "            total = total + data[i].row_values(j)[1]\n",
    "            count = count + 1\n",
    "    indicators.append(indicator)\n",
    "    prices.append(price)\n",
    "    \n",
    "# print(indicators)\n",
    "print(prices[4])"
   ]
  },
  {
   "cell_type": "code",
   "execution_count": 5,
   "metadata": {},
   "outputs": [
    {
     "name": "stdout",
     "output_type": "stream",
     "text": [
      "12\n"
     ]
    }
   ],
   "source": [
    "print(len(prices[1]))"
   ]
  },
  {
   "cell_type": "code",
   "execution_count": 42,
   "metadata": {},
   "outputs": [
    {
     "name": "stdout",
     "output_type": "stream",
     "text": [
      "11\n"
     ]
    }
   ],
   "source": [
    "grow_rates = []\n",
    "for i in range(5):\n",
    "    count = total = 0\n",
    "    grow_rate = []\n",
    "    for j in range(1, len(indicators[i])):\n",
    "        if(indicators[i][j] != -1):\n",
    "            if(indicators[i][j - 1] != -1):\n",
    "                count = count + 1\n",
    "                grow_rate.append(indicators[i][j] / indicators[i][j - 1])\n",
    "                # total = total + indicators[i][j] / indicators[i][j - 1]\n",
    "    if(count == 0):\n",
    "        grow_rates.append(-1)\n",
    "    else:\n",
    "        grow_rates.append(grow_rate)\n",
    "        \n",
    "print(len(grow_rates[0]))"
   ]
  },
  {
   "cell_type": "code",
   "execution_count": 42,
   "metadata": {},
   "outputs": [],
   "source": [
    "# prices = []\n",
    "# for i in range(50):\n",
    "#    count = total = 0\n",
    "#    price = []\n",
    "#    for j in range(len(indicators[i])):\n",
    "#        if(indicators[i][j] != -1):\n",
    "#                count = count + 1\n",
    "#                price.append(indicators[i][j])\n",
    "#                total = total + indicators[i][j]\n",
    "#    if(count == 0):\n",
    "#        prices.append(-1)\n",
    "#     else:\n",
    "#         prices.append(total / count)\n",
    "# print(prices)"
   ]
  },
  {
   "cell_type": "code",
   "execution_count": 43,
   "metadata": {
    "scrolled": true
   },
   "outputs": [
    {
     "name": "stdout",
     "output_type": "stream",
     "text": [
      "12\n",
      "[[3008, 0.6952306673792712], [2474, 0.10594448917397349], [2912, 0.08875206352403694], [2330, 0.055148658304177665], [2412, 0.05492412161854062]]\n",
      "[[3008, 0.7982281695994049], [2474, 0.06889244203296654], [2912, 0.058593684227360214], [2330, 0.05194081243883971], [2412, 0.022344891701428532]]\n",
      "[[3008, 0.7845154920689245], [2474, 0.07734092639440743], [2912, 0.06343178472890781], [2330, 0.051785939214510385], [2412, 0.02292585759324991]]\n",
      "[[3008, 0.7525132475646604], [2474, 0.0855521078718391], [2912, 0.07485766892239545], [2330, 0.05821621473466086], [2412, 0.02886076090644419]]\n",
      "[[3008, 0.8156411150793362], [2474, 0.06299370102754288], [2912, 0.05772621398532785], [2330, 0.04224471236252562], [2412, 0.021394257545267466]]\n",
      "[[3008, 0.8195660595883499], [2474, 0.06298233866921986], [2912, 0.058567575006795866], [2330, 0.03950289783162783], [2412, 0.019381128904006503]]\n",
      "[[3008, 0.8251700295667702], [2474, 0.05849468866361775], [2912, 0.061502884177681676], [2330, 0.03652110963526479], [2412, 0.018311287956665603]]\n",
      "[[3008, 0.8234294489151154], [2474, 0.06442462074941636], [2912, 0.05095033290165851], [2330, 0.04399418102609749], [2412, 0.017201416407712163]]\n",
      "[[3008, 0.7911744044826795], [2474, 0.06721737919569083], [2912, 0.06814757084881913], [2330, 0.052796131550879116], [2412, 0.02066451392193135]]\n",
      "[[3008, 0.7497809409582926], [2474, 0.07415973530125826], [2912, 0.08817401693028563], [2330, 0.06044061096845388], [2412, 0.027444695841709763]]\n",
      "[[3008, 0.7688597150259429], [2474, 0.06486139705395148], [2912, 0.08463338399996956], [2330, 0.05435050445887049], [2412, 0.027294999461265727]]\n",
      "[[3008, 0.8004606130135378], [2474, 0.05146471418532241], [2912, 0.07190167106137954], [2330, 0.051621611979916715], [2412, 0.024551389759843518]]\n"
     ]
    }
   ],
   "source": [
    "tp_list = [39, 23, 38, 15, 21]\n",
    "top = [[3008, 1.0195584855224193, 1113.663427292405], [2474, 1.0112418251623339, 171.10414387380294], [2912, 1.0111643952342682, 143.34873688180505], [2330, 1.0094791509069054, 89.22258002098916], [2412, 1.003703956760911, 89.37059802571166]]\n",
    "total = 0\n",
    "top5 = []\n",
    "\n",
    "for i in range(5):\n",
    "    total = total + top[i][1] * top[i][2]\n",
    "temp = []\n",
    "for i in range(5):\n",
    "    temp.append([top[i][0], top[i][1]*top[i][2] / total])\n",
    "top5.append(temp)\n",
    "\n",
    "#print(total)\n",
    "#print(top5[0][0][1])\n",
    "\n",
    "total = 0\n",
    "#for i in range(5):\n",
    "#    total = total + top5[0][i][1]\n",
    "#print(total)\n",
    "\n",
    "#c = [39, 23, 38, 15, 21]\n",
    "\n",
    "for i in range(11):\n",
    "    total = 0\n",
    "    temp = []\n",
    "    for j in range(5):\n",
    "        total = total + grow_rates[j][i] * prices[j][i]\n",
    "    for j in range(5):\n",
    "        temp.append([target[j], grow_rates[j][i] * prices[j][i] / total])\n",
    "    top5.append(temp)\n",
    "        \n",
    "print(len(top5))\n",
    "\n",
    "for i in range(12):\n",
    "    print(top5[i])\n",
    "#total = 0\n",
    "#for i in range(5):\n",
    "#   total = total + top5[11][i][1]\n",
    "# print(total)\n"
   ]
  }
 ],
 "metadata": {
  "kernelspec": {
   "display_name": "Python 3",
   "language": "python",
   "name": "python3"
  },
  "language_info": {
   "codemirror_mode": {
    "name": "ipython",
    "version": 3
   },
   "file_extension": ".py",
   "mimetype": "text/x-python",
   "name": "python",
   "nbconvert_exporter": "python",
   "pygments_lexer": "ipython3",
   "version": "3.7.1"
  }
 },
 "nbformat": 4,
 "nbformat_minor": 2
}
